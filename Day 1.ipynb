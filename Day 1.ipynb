{
 "cells": [
  {
   "cell_type": "code",
   "execution_count": 1,
   "id": "be0a2f21-b27e-484c-852f-183c79819ec0",
   "metadata": {
    "tags": []
   },
   "outputs": [
    {
     "name": "stdout",
     "output_type": "stream",
     "text": [
      "123\n"
     ]
    }
   ],
   "source": [
    "print (123)"
   ]
  },
  {
   "cell_type": "code",
   "execution_count": 2,
   "id": "b4fde796-d8c2-47fa-8491-6592da3a87fa",
   "metadata": {
    "tags": []
   },
   "outputs": [
    {
     "name": "stdout",
     "output_type": "stream",
     "text": [
      "123123135\n"
     ]
    }
   ],
   "source": [
    "print (123123123 + 12)"
   ]
  },
  {
   "cell_type": "code",
   "execution_count": 4,
   "id": "fc3ef981-0a0a-48cc-8544-bac3166da622",
   "metadata": {
    "tags": []
   },
   "outputs": [
    {
     "name": "stdout",
     "output_type": "stream",
     "text": [
      "10\n",
      "<class 'int'>\n"
     ]
    }
   ],
   "source": [
    "print (10)\n",
    "print(type(10))"
   ]
  },
  {
   "cell_type": "code",
   "execution_count": 7,
   "id": "3fd8c554-9169-4d51-a9da-4c5073ae89af",
   "metadata": {
    "tags": []
   },
   "outputs": [
    {
     "name": "stdout",
     "output_type": "stream",
     "text": [
      "4.2\n",
      "<class 'int'>\n",
      "4.0\n",
      "0.2\n",
      "4000000.0\n",
      "0.00042\n"
     ]
    }
   ],
   "source": [
    "print(4.2)\n",
    "print(type(42))\n",
    "\n",
    "print (4.)\n",
    "\n",
    "print (.2)\n",
    "\n",
    "print(.4e7)\n",
    "\n",
    "print (4.2e-4)"
   ]
  },
  {
   "cell_type": "code",
   "execution_count": 9,
   "id": "a7ebbf6a-e845-4ab7-9c61-c3e0b9adfd39",
   "metadata": {
    "tags": []
   },
   "outputs": [
    {
     "name": "stdout",
     "output_type": "stream",
     "text": [
      "Hacktiv8\n",
      "<class 'str'>\n",
      "Hacktiv8\n"
     ]
    }
   ],
   "source": [
    "print(\"Hacktiv8\")\n",
    "print(type(\"Hacktiv8\"))\n",
    "print ('Hacktiv8')"
   ]
  },
  {
   "cell_type": "code",
   "execution_count": 10,
   "id": "80258fb3-4cf9-46a7-8d6b-4862c235fde3",
   "metadata": {
    "tags": []
   },
   "outputs": [
    {
     "name": "stdout",
     "output_type": "stream",
     "text": [
      "aku dan Kamu\n",
      "aku dan kamu\n"
     ]
    }
   ],
   "source": [
    "print(\"aku dan Kamu\")\n",
    "print('aku dan kamu')"
   ]
  },
  {
   "cell_type": "code",
   "execution_count": 13,
   "id": "a5e7967e-bf36-44da-99b9-9c49fa2f1187",
   "metadata": {
    "tags": []
   },
   "outputs": [
    {
     "name": "stdout",
     "output_type": "stream",
     "text": [
      "<class 'bool'>\n",
      "<class 'bool'>\n"
     ]
    }
   ],
   "source": [
    "print(type(True))\n",
    "\n",
    "print (type(False))"
   ]
  },
  {
   "cell_type": "code",
   "execution_count": 14,
   "id": "42dbf454-5b6b-486f-9431-ccac41a80e29",
   "metadata": {
    "tags": []
   },
   "outputs": [
    {
     "name": "stdout",
     "output_type": "stream",
     "text": [
      "150903\n"
     ]
    }
   ],
   "source": [
    "n = 150903\n",
    "\n",
    "print(n)"
   ]
  },
  {
   "cell_type": "code",
   "execution_count": 15,
   "id": "479c6a60-a8ca-47de-a222-82d6463fe983",
   "metadata": {
    "tags": []
   },
   "outputs": [
    {
     "data": {
      "text/plain": [
       "150903"
      ]
     },
     "execution_count": 15,
     "metadata": {},
     "output_type": "execute_result"
    }
   ],
   "source": [
    "n\n"
   ]
  },
  {
   "cell_type": "code",
   "execution_count": 16,
   "id": "429e7485-9537-4b5c-95d4-59cfd98d3fa5",
   "metadata": {
    "tags": []
   },
   "outputs": [
    {
     "name": "stdout",
     "output_type": "stream",
     "text": [
      "250\n"
     ]
    },
    {
     "data": {
      "text/plain": [
       "250"
      ]
     },
     "execution_count": 16,
     "metadata": {},
     "output_type": "execute_result"
    }
   ],
   "source": [
    "j = 250\n",
    "\n",
    "print(j)\n",
    "\n",
    "\n",
    "j"
   ]
  },
  {
   "cell_type": "code",
   "execution_count": 17,
   "id": "73643e70-1e31-4358-923a-70639721e21f",
   "metadata": {
    "tags": []
   },
   "outputs": [
    {
     "name": "stdout",
     "output_type": "stream",
     "text": [
      "350 350 350\n"
     ]
    }
   ],
   "source": [
    "a=b=c=350\n",
    "\n",
    "print (a,b,c)"
   ]
  },
  {
   "cell_type": "code",
   "execution_count": 18,
   "id": "4ed062b1-90a3-47a7-8510-cfcaefb9da70",
   "metadata": {
    "tags": []
   },
   "outputs": [
    {
     "name": "stdout",
     "output_type": "stream",
     "text": [
      "23.5\n",
      "Hayyuuukk\n"
     ]
    }
   ],
   "source": [
    "variabel = 23.5\n",
    "print (variabel)\n",
    "\n",
    "variabel = \"Hayyuuukk\"\n",
    "print(variabel)"
   ]
  },
  {
   "cell_type": "code",
   "execution_count": 19,
   "id": "0748a8df-74ff-46c7-8d1f-5f2758d48b04",
   "metadata": {
    "tags": []
   },
   "outputs": [
    {
     "name": "stdout",
     "output_type": "stream",
     "text": [
      "Simon 2500 True\n"
     ]
    }
   ],
   "source": [
    "Nama = \"Simon\"\n",
    "Umur = 2500\n",
    "lepi = True\n",
    "\n",
    "print (Nama, Umur, lepi)"
   ]
  },
  {
   "cell_type": "code",
   "execution_count": 21,
   "id": "2e3f90cc-a702-45df-bac7-71b238b60e0f",
   "metadata": {
    "tags": []
   },
   "outputs": [
    {
     "data": {
      "text/plain": [
       "(1, 2, 3, 4, 5)"
      ]
     },
     "execution_count": 21,
     "metadata": {},
     "output_type": "execute_result"
    }
   ],
   "source": [
    "aku = 1\n",
    "Aku = 2\n",
    "AkU = 3\n",
    "AKU = 4\n",
    "_aku = 5\n",
    "\n",
    "aku, Aku, AkU, AKU, _aku"
   ]
  },
  {
   "cell_type": "code",
   "execution_count": 22,
   "id": "4502517e-242f-4650-bee5-89835f8629ff",
   "metadata": {
    "tags": []
   },
   "outputs": [
    {
     "data": {
      "text/plain": [
       "35"
      ]
     },
     "execution_count": 22,
     "metadata": {},
     "output_type": "execute_result"
    }
   ],
   "source": [
    "a = 10\n",
    "b = 25\n",
    "\n",
    "a+b"
   ]
  },
  {
   "cell_type": "code",
   "execution_count": 23,
   "id": "ec8cd0aa-af5f-45de-aa57-72bd77b6cd2d",
   "metadata": {
    "tags": []
   },
   "outputs": [
    {
     "data": {
      "text/plain": [
       "30"
      ]
     },
     "execution_count": 23,
     "metadata": {},
     "output_type": "execute_result"
    }
   ],
   "source": [
    "a = 10\n",
    "b = 25\n",
    "\n",
    "a+b - 5"
   ]
  },
  {
   "cell_type": "code",
   "execution_count": 25,
   "id": "287d34b2-7858-4f81-b3bf-d8b8c29a86a5",
   "metadata": {
    "tags": []
   },
   "outputs": [
    {
     "name": "stdout",
     "output_type": "stream",
     "text": [
      "35\n",
      "-15\n",
      "250\n",
      "0.4\n",
      "10\n",
      "10000000000000000000000000\n"
     ]
    }
   ],
   "source": [
    "print(a+b)\n",
    "print(a-b)\n",
    "print(a*b)\n",
    "print(a/b)\n",
    "print(a%b)\n",
    "print(a**b)"
   ]
  },
  {
   "cell_type": "code",
   "execution_count": 27,
   "id": "c46f4b96-9bf0-4299-9d22-55057bf97829",
   "metadata": {
    "tags": []
   },
   "outputs": [
    {
     "name": "stdout",
     "output_type": "stream",
     "text": [
      "False\n",
      "True\n",
      "True\n",
      "False\n",
      "\n",
      "True\n",
      "False\n",
      "True\n",
      "True\n"
     ]
    }
   ],
   "source": [
    "a =10\n",
    "b = 20\n",
    "\n",
    "print(a==b)\n",
    "print (a!=b)\n",
    "print(a<=b)\n",
    "print (a>=b)\n",
    "\n",
    "print(\"\")\n",
    "a=30\n",
    "b=30\n",
    "\n",
    "print(a==b)\n",
    "print (a!=b)\n",
    "print(a<=b)\n",
    "print (a>=b)"
   ]
  },
  {
   "cell_type": "code",
   "execution_count": 29,
   "id": "34b81995-b44e-4345-98a6-0bc269d4ea15",
   "metadata": {
    "tags": []
   },
   "outputs": [
    {
     "name": "stdout",
     "output_type": "stream",
     "text": [
      "foo bar baz\n",
      "foobarbaz\n",
      "Hacktiv8 PTP\n"
     ]
    }
   ],
   "source": [
    "s = 'foo'\n",
    "t = 'bar'\n",
    "u = 'baz'\n",
    "\n",
    "print(s,t,u)\n",
    "print (s+t+u)\n",
    "\n",
    "print ('Hacktiv8 ' +'PTP')"
   ]
  },
  {
   "cell_type": "code",
   "execution_count": 33,
   "id": "e8a8bb89-b6e6-495a-9483-ba6e768a1c63",
   "metadata": {
    "tags": []
   },
   "outputs": [
    {
     "name": "stdout",
     "output_type": "stream",
     "text": [
      "foofoofoofoo\n",
      "True\n",
      "False\n"
     ]
    }
   ],
   "source": [
    "s='foo'\n",
    "\n",
    "print(s*4)\n",
    "\n",
    "print(s in 'That food is for me')\n",
    "\n",
    "print (s in ' that goodie for me')"
   ]
  },
  {
   "cell_type": "code",
   "execution_count": 35,
   "id": "884dbd29-3abc-4730-8338-d20be575aa6d",
   "metadata": {
    "tags": []
   },
   "outputs": [
    {
     "name": "stdout",
     "output_type": "stream",
     "text": [
      "Acku cayang kamu celalu\n",
      "acku cayang kamu celalu\n",
      "aCKU CAYaNG KAmU cELalU\n",
      "Acku Cayang Kamu Celalu\n",
      "ACKU CAYANG KAMU CELALU\n"
     ]
    }
   ],
   "source": [
    "s = 'Acku cayAng kaMu CelALu'\n",
    "\n",
    "print(s.capitalize())\n",
    "\n",
    "print(s.lower())\n",
    "\n",
    "print(s.swapcase())\n",
    "\n",
    "print(s.title())\n",
    "\n",
    "print(s.upper())"
   ]
  },
  {
   "cell_type": "code",
   "execution_count": 36,
   "id": "37f7e518-354f-43d0-99d0-a3013b538324",
   "metadata": {
    "tags": []
   },
   "outputs": [
    {
     "name": "stdout",
     "output_type": "stream",
     "text": [
      "['foo', 'bar', 'baz', 'qux']\n"
     ]
    }
   ],
   "source": [
    "a = ['foo', 'bar', 'baz', 'qux']\n",
    "\n",
    "print(a)"
   ]
  },
  {
   "cell_type": "code",
   "execution_count": 37,
   "id": "d8021656-ede1-4acf-905a-804880467447",
   "metadata": {
    "tags": []
   },
   "outputs": [
    {
     "data": {
      "text/plain": [
       "False"
      ]
     },
     "execution_count": 37,
     "metadata": {},
     "output_type": "execute_result"
    }
   ],
   "source": [
    "a = ['foo', 'bar', 'baz', 'qux']\n",
    "b = ['baz', 'qux', 'bar', 'foo']\n",
    "\n",
    "a==b"
   ]
  },
  {
   "cell_type": "code",
   "execution_count": 39,
   "id": "eed8bf2f-3d97-43d3-ac56-8b214a1f2f8f",
   "metadata": {
    "tags": []
   },
   "outputs": [
    {
     "name": "stdout",
     "output_type": "stream",
     "text": [
      "[21.42, 'foobar', 3, 4, 'bark', False, 3.14159]\n"
     ]
    }
   ],
   "source": [
    "a = [ 21.42, 'foobar', 3, 4, 'bark', False, 3.14159]\n",
    "\n",
    "print(a)"
   ]
  },
  {
   "cell_type": "code",
   "execution_count": 50,
   "id": "73232e5c-2f04-4ed4-8cee-23f6fdd4f796",
   "metadata": {
    "tags": []
   },
   "outputs": [
    {
     "name": "stdout",
     "output_type": "stream",
     "text": [
      "foobarbark\n",
      "foobar bark\n",
      "[3, 4, 'bark']\n",
      "7\n"
     ]
    }
   ],
   "source": [
    "a = [ 21.42, 'foobar', 3, 4, 'bark', False, 3.14159]\n",
    "\n",
    "print(a[1] + a[4])\n",
    "print(a[1] , a[4])\n",
    "\n",
    "print(a[2:5])\n",
    "\n",
    "print(len(a))"
   ]
  },
  {
   "cell_type": "code",
   "execution_count": 52,
   "id": "b8c3e5d6-0d1c-4cce-8616-636c781f6d68",
   "metadata": {
    "tags": []
   },
   "outputs": [
    {
     "name": "stdout",
     "output_type": "stream",
     "text": [
      "['foo', 'bar', 'baz', 'qux', 'quux', 'corge']\n",
      "['foo', 'bar', 10, 'qux', 'quux', 10]\n"
     ]
    }
   ],
   "source": [
    "a = ['foo', 'bar', 'baz', 'qux', 'quux', 'corge']\n",
    "\n",
    "print(a)\n",
    "\n",
    "a[2] = 10\n",
    "a[-1] = 10\n",
    "\n",
    "print(a)"
   ]
  },
  {
   "cell_type": "code",
   "execution_count": 53,
   "id": "0a1a2444-5460-4cc0-acbf-879aa1f4d80d",
   "metadata": {
    "tags": []
   },
   "outputs": [
    {
     "name": "stdout",
     "output_type": "stream",
     "text": [
      "['foo', 'bar', 'baz', 'qux', 'quux', 'corge']\n",
      "['foo', 1.1, 2.2, 3.3, 4.4, 5.5, 'quux', 'corge']\n"
     ]
    }
   ],
   "source": [
    "a = ['foo', 'bar', 'baz', 'qux', 'quux', 'corge']\n",
    "\n",
    "print(a)\n",
    "\n",
    "a[1:4] = [1.1, 2.2, 3.3, 4.4, 5.5]\n",
    "\n",
    "print(a)"
   ]
  },
  {
   "cell_type": "code",
   "execution_count": 57,
   "id": "7d7fff4f-4667-47bc-b3e7-30dada0b3dc1",
   "metadata": {
    "tags": []
   },
   "outputs": [
    {
     "name": "stdout",
     "output_type": "stream",
     "text": [
      "('foo', 'bar', 'baz', 'qux', 'quux', 'corge')\n",
      "foo\n",
      "corge\n"
     ]
    }
   ],
   "source": [
    "t = ('foo', 'bar', 'baz', 'qux', 'quux', 'corge')\n",
    "\n",
    "print(t)\n",
    "\n",
    "print(t[0])\n",
    "      \n",
    "print(t[-1])"
   ]
  },
  {
   "cell_type": "code",
   "execution_count": 58,
   "id": "88b9ddc9-2e1d-4f27-b526-c337d3f5acbb",
   "metadata": {
    "tags": []
   },
   "outputs": [
    {
     "data": {
      "text/plain": [
       "'foo'"
      ]
     },
     "execution_count": 58,
     "metadata": {},
     "output_type": "execute_result"
    }
   ],
   "source": [
    "(s1, s2, s3, s4) = ('foo', 'bar', 'baz', 'qux')\n",
    "\n",
    "s1"
   ]
  },
  {
   "cell_type": "code",
   "execution_count": null,
   "id": "709efa53-c7ca-4f86-b834-d1b435f1a0e0",
   "metadata": {},
   "outputs": [],
   "source": []
  }
 ],
 "metadata": {
  "kernelspec": {
   "display_name": "Python 3 (ipykernel)",
   "language": "python",
   "name": "python3"
  },
  "language_info": {
   "codemirror_mode": {
    "name": "ipython",
    "version": 3
   },
   "file_extension": ".py",
   "mimetype": "text/x-python",
   "name": "python",
   "nbconvert_exporter": "python",
   "pygments_lexer": "ipython3",
   "version": "3.11.4"
  }
 },
 "nbformat": 4,
 "nbformat_minor": 5
}
