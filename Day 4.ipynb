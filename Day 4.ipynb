{
 "cells": [
  {
   "cell_type": "code",
   "execution_count": 4,
   "id": "942a48dd-d396-4aef-a051-29928acb09b4",
   "metadata": {
    "tags": []
   },
   "outputs": [],
   "source": [
    "import numpy as np"
   ]
  },
  {
   "cell_type": "code",
   "execution_count": 5,
   "id": "6d1dccd8-53f8-4d4b-afe0-7dc40bb87923",
   "metadata": {
    "tags": []
   },
   "outputs": [
    {
     "data": {
      "text/plain": [
       "numpy.ndarray"
      ]
     },
     "execution_count": 5,
     "metadata": {},
     "output_type": "execute_result"
    }
   ],
   "source": [
    "a = np.array( [[1,2,3],[4,5,6],[7,8,9]])\n",
    "type(a)"
   ]
  },
  {
   "cell_type": "code",
   "execution_count": 13,
   "id": "4bc9e250-8dbd-48d9-81c3-467890beee6b",
   "metadata": {
    "tags": []
   },
   "outputs": [
    {
     "data": {
      "text/plain": [
       "array([1, 2, 3])"
      ]
     },
     "metadata": {},
     "output_type": "display_data"
    },
    {
     "name": "stdout",
     "output_type": "stream",
     "text": [
      "[1 2 3]\n"
     ]
    },
    {
     "data": {
      "text/plain": [
       "[1, 2, 3]"
      ]
     },
     "execution_count": 13,
     "metadata": {},
     "output_type": "execute_result"
    }
   ],
   "source": [
    "a = np.array( [[1,2,3],[4,5,6],[7,8,9]])\n",
    "b = [[1,2,3],[4,5,6],[7,8,9]]\n",
    "\n",
    "a[0]\n",
    "display(a[0])\n",
    "print(a[0])\n",
    "b[0]"
   ]
  },
  {
   "cell_type": "code",
   "execution_count": 17,
   "id": "52647e0c-ad75-41b8-a3f7-a853ead456ef",
   "metadata": {
    "tags": []
   },
   "outputs": [
    {
     "data": {
      "text/plain": [
       "array([1., 1., 1., 1., 1., 1., 1.])"
      ]
     },
     "execution_count": 17,
     "metadata": {},
     "output_type": "execute_result"
    }
   ],
   "source": [
    "np.zeros(6)\n",
    "np.ones(7)"
   ]
  },
  {
   "cell_type": "code",
   "execution_count": 27,
   "id": "ceaeaf92-3272-4666-ba0b-03c015a31766",
   "metadata": {
    "tags": []
   },
   "outputs": [
    {
     "data": {
      "text/plain": [
       "array([ 9.75394660e+199,  1.30903169e-311, -0.00000000e+000])"
      ]
     },
     "execution_count": 27,
     "metadata": {},
     "output_type": "execute_result"
    }
   ],
   "source": [
    "np.empty(3, order='F')"
   ]
  },
  {
   "cell_type": "code",
   "execution_count": 30,
   "id": "7cc51472-cc44-42fe-a096-ec994ad2f347",
   "metadata": {
    "tags": []
   },
   "outputs": [
    {
     "data": {
      "text/plain": [
       "array([ 2,  7, 12, 17, 22, 27])"
      ]
     },
     "execution_count": 30,
     "metadata": {},
     "output_type": "execute_result"
    }
   ],
   "source": [
    "np.arange(2,29,5)"
   ]
  },
  {
   "cell_type": "code",
   "execution_count": 43,
   "id": "d0374ccc-d4d7-4c0c-b1f9-6fdb3e8bb03e",
   "metadata": {
    "tags": []
   },
   "outputs": [
    {
     "data": {
      "text/plain": [
       "array([ 5,  7,  9, 11, 13, 15, 17, 19,  1,  2,  3])"
      ]
     },
     "execution_count": 43,
     "metadata": {},
     "output_type": "execute_result"
    }
   ],
   "source": [
    "cth = np.arange(5,20,2)\n",
    "cth\n",
    "\n",
    "np.append(cth,[1,2,3])\n"
   ]
  },
  {
   "cell_type": "code",
   "execution_count": 41,
   "id": "b17e9aa7-2d0c-4d30-9649-e45752784d5a",
   "metadata": {
    "tags": []
   },
   "outputs": [
    {
     "data": {
      "text/plain": [
       "array([ 7,  9, 11, 13, 15, 17, 19])"
      ]
     },
     "execution_count": 41,
     "metadata": {},
     "output_type": "execute_result"
    }
   ],
   "source": [
    "np.delete(cth,0)\n"
   ]
  },
  {
   "cell_type": "code",
   "execution_count": 45,
   "id": "078dd9b1-4b04-4810-a414-71ef1d7df5d5",
   "metadata": {
    "tags": []
   },
   "outputs": [
    {
     "data": {
      "text/plain": [
       "array([ 1,  2,  3,  5,  7,  9, 11, 13, 15, 17, 19])"
      ]
     },
     "execution_count": 45,
     "metadata": {},
     "output_type": "execute_result"
    }
   ],
   "source": [
    "contoh = [ 5,  7,  9, 11, 13, 15, 17, 19,  1,  2,  3]\n",
    "np.sort(contoh)\n"
   ]
  },
  {
   "cell_type": "code",
   "execution_count": 63,
   "id": "6f480ad2-2c5f-4c4c-857f-6e96647cd6ae",
   "metadata": {
    "tags": []
   },
   "outputs": [
    {
     "data": {
      "text/plain": [
       "array([[[0, 1, 2, 3],\n",
       "        [4, 5, 6, 7]],\n",
       "\n",
       "       [[0, 1, 2, 3],\n",
       "        [4, 5, 6, 7]],\n",
       "\n",
       "       [[0, 1, 2, 3],\n",
       "        [4, 5, 6, 7]]])"
      ]
     },
     "execution_count": 63,
     "metadata": {},
     "output_type": "execute_result"
    }
   ],
   "source": [
    "array_example = np.array(\n",
    "    [[[0,1,2,3],[4,5,6,7]],\n",
    "        [[0,1,2,3],[4,5,6,7]],\n",
    "        [[0,1,2,3],[4,5,6,7]]])\n",
    "\n",
    "array_example"
   ]
  },
  {
   "cell_type": "code",
   "execution_count": 64,
   "id": "12ba1a27-c7d9-4561-8c69-07859d4a8cd2",
   "metadata": {
    "tags": []
   },
   "outputs": [
    {
     "data": {
      "text/plain": [
       "3"
      ]
     },
     "execution_count": 64,
     "metadata": {},
     "output_type": "execute_result"
    }
   ],
   "source": [
    "array_example.ndim\n"
   ]
  },
  {
   "cell_type": "code",
   "execution_count": 65,
   "id": "42c8da8b-ccf1-483e-a16f-0b83de1c4fd9",
   "metadata": {
    "tags": []
   },
   "outputs": [
    {
     "data": {
      "text/plain": [
       "24"
      ]
     },
     "execution_count": 65,
     "metadata": {},
     "output_type": "execute_result"
    }
   ],
   "source": [
    "array_example.size"
   ]
  },
  {
   "cell_type": "code",
   "execution_count": 66,
   "id": "184aacca-9e5e-4f53-a9ff-3b2ca4bb824c",
   "metadata": {
    "tags": []
   },
   "outputs": [
    {
     "data": {
      "text/plain": [
       "(3, 2, 4)"
      ]
     },
     "execution_count": 66,
     "metadata": {},
     "output_type": "execute_result"
    }
   ],
   "source": [
    "array_example.shape"
   ]
  },
  {
   "cell_type": "code",
   "execution_count": 70,
   "id": "91c52314-b664-4471-9a2a-709a8f4a02e5",
   "metadata": {
    "tags": []
   },
   "outputs": [
    {
     "data": {
      "text/plain": [
       "array([[[0, 1],\n",
       "        [2, 3],\n",
       "        [4, 5]],\n",
       "\n",
       "       [[6, 7],\n",
       "        [0, 1],\n",
       "        [2, 3]],\n",
       "\n",
       "       [[4, 5],\n",
       "        [6, 7],\n",
       "        [0, 1]],\n",
       "\n",
       "       [[2, 3],\n",
       "        [4, 5],\n",
       "        [6, 7]]])"
      ]
     },
     "execution_count": 70,
     "metadata": {},
     "output_type": "execute_result"
    }
   ],
   "source": [
    "array_example.reshape(4,3,2)"
   ]
  },
  {
   "cell_type": "code",
   "execution_count": 68,
   "id": "6e79964d-1e51-4c90-9855-9fdd94c01098",
   "metadata": {
    "tags": []
   },
   "outputs": [
    {
     "data": {
      "text/plain": [
       "array([[0, 1, 2, 3],\n",
       "       [4, 5, 6, 7]])"
      ]
     },
     "execution_count": 68,
     "metadata": {},
     "output_type": "execute_result"
    }
   ],
   "source": [
    "example = np.array([[0,1,2,3],[4,5,6,7]])\n",
    "example"
   ]
  },
  {
   "cell_type": "code",
   "execution_count": 58,
   "id": "605f9d86-0a21-47b3-80b4-cf1b86911127",
   "metadata": {
    "tags": []
   },
   "outputs": [
    {
     "data": {
      "text/plain": [
       "2"
      ]
     },
     "execution_count": 58,
     "metadata": {},
     "output_type": "execute_result"
    }
   ],
   "source": [
    "example.ndim"
   ]
  },
  {
   "cell_type": "code",
   "execution_count": 59,
   "id": "747636ae-0151-4b7d-b03d-7823b88f0e98",
   "metadata": {
    "tags": []
   },
   "outputs": [
    {
     "data": {
      "text/plain": [
       "8"
      ]
     },
     "execution_count": 59,
     "metadata": {},
     "output_type": "execute_result"
    }
   ],
   "source": [
    "example.size"
   ]
  },
  {
   "cell_type": "code",
   "execution_count": 60,
   "id": "5b69931d-dd99-4981-8c66-34cd5ef56e5f",
   "metadata": {
    "tags": []
   },
   "outputs": [
    {
     "data": {
      "text/plain": [
       "(2, 4)"
      ]
     },
     "execution_count": 60,
     "metadata": {},
     "output_type": "execute_result"
    }
   ],
   "source": [
    "example.shape"
   ]
  },
  {
   "cell_type": "code",
   "execution_count": 61,
   "id": "c13321b8-d67f-4d43-a01b-132a49cda8ae",
   "metadata": {
    "tags": []
   },
   "outputs": [
    {
     "data": {
      "text/plain": [
       "array([[0, 1],\n",
       "       [2, 3],\n",
       "       [4, 5],\n",
       "       [6, 7]])"
      ]
     },
     "execution_count": 61,
     "metadata": {},
     "output_type": "execute_result"
    }
   ],
   "source": [
    "example.reshape(4, 2)"
   ]
  },
  {
   "cell_type": "code",
   "execution_count": 72,
   "id": "8f369a11-718e-459e-b9df-c4909e2fdbde",
   "metadata": {
    "tags": []
   },
   "outputs": [
    {
     "data": {
      "text/plain": [
       "array([ 0,  1,  2,  3,  4,  5,  7,  8,  9, 10, 11, 12, 13, 14, 15])"
      ]
     },
     "execution_count": 72,
     "metadata": {},
     "output_type": "execute_result"
    }
   ],
   "source": [
    "a = np.array([0,1,2,3,4,5,7,8,9,10,11,12,13,14,15])\n",
    "a"
   ]
  },
  {
   "cell_type": "code",
   "execution_count": 79,
   "id": "c9c2f70c-7cd4-4810-831c-b9d7dce51135",
   "metadata": {
    "tags": []
   },
   "outputs": [
    {
     "data": {
      "text/plain": [
       "array([[ 0,  1,  2,  3,  4,  5,  7,  8,  9, 10, 11, 12, 13, 14, 15]])"
      ]
     },
     "metadata": {},
     "output_type": "display_data"
    },
    {
     "data": {
      "text/plain": [
       "array([[[ 0,  1,  2,  3,  4,  5,  7,  8,  9, 10, 11, 12, 13, 14, 15]]])"
      ]
     },
     "metadata": {},
     "output_type": "display_data"
    },
    {
     "data": {
      "text/plain": [
       "(15, 1)"
      ]
     },
     "metadata": {},
     "output_type": "display_data"
    },
    {
     "data": {
      "text/plain": [
       "array([[ 0],\n",
       "       [ 1],\n",
       "       [ 2],\n",
       "       [ 3],\n",
       "       [ 4],\n",
       "       [ 5],\n",
       "       [ 7],\n",
       "       [ 8],\n",
       "       [ 9],\n",
       "       [10],\n",
       "       [11],\n",
       "       [12],\n",
       "       [13],\n",
       "       [14],\n",
       "       [15]])"
      ]
     },
     "metadata": {},
     "output_type": "display_data"
    }
   ],
   "source": [
    "a2 = a[np.newaxis]\n",
    "display(a2)\n",
    "a3=a2[np.newaxis]\n",
    "display(a3)\n",
    "a3.shape\n",
    "\n",
    "row_vector = a[:, np.newaxis]\n",
    "display(row_vector.shape)\n",
    "display(row_vector)"
   ]
  },
  {
   "cell_type": "code",
   "execution_count": 87,
   "id": "95583548-6a28-460b-8cf0-a59fac2f9aea",
   "metadata": {
    "tags": []
   },
   "outputs": [
    {
     "data": {
      "text/plain": [
       "array([ 0,  1,  2,  3,  4,  5,  7,  8,  9, 10, 11, 12, 13, 14, 15])"
      ]
     },
     "metadata": {},
     "output_type": "display_data"
    },
    {
     "data": {
      "text/plain": [
       "(15,)"
      ]
     },
     "metadata": {},
     "output_type": "display_data"
    },
    {
     "data": {
      "text/plain": [
       "array([[0],\n",
       "       [1],\n",
       "       [2],\n",
       "       [3],\n",
       "       [4]])"
      ]
     },
     "metadata": {},
     "output_type": "display_data"
    },
    {
     "data": {
      "text/plain": [
       "(5, 1)"
      ]
     },
     "metadata": {},
     "output_type": "display_data"
    }
   ],
   "source": [
    "b = np.arange(5)\n",
    "display(a)\n",
    "display(a.shape)\n",
    "\n",
    "c = np.expand_dims(b,axis=1)\n",
    "display(c)\n",
    "display(c.shape)"
   ]
  },
  {
   "cell_type": "code",
   "execution_count": 85,
   "id": "7f7870f7-b3ab-42a6-b400-dfac66fafb39",
   "metadata": {
    "tags": []
   },
   "outputs": [
    {
     "data": {
      "text/plain": [
       "array([[0, 1, 2, 3],\n",
       "       [4, 5, 6, 7]])"
      ]
     },
     "execution_count": 85,
     "metadata": {},
     "output_type": "execute_result"
    }
   ],
   "source": [
    "example"
   ]
  },
  {
   "cell_type": "code",
   "execution_count": 88,
   "id": "f1c1065e-a09f-4fcb-8582-fb428f2741cd",
   "metadata": {
    "tags": []
   },
   "outputs": [
    {
     "data": {
      "text/plain": [
       "array([2, 3, 4, 5, 6, 7])"
      ]
     },
     "execution_count": 88,
     "metadata": {},
     "output_type": "execute_result"
    }
   ],
   "source": [
    "example[example >=2]"
   ]
  },
  {
   "cell_type": "code",
   "execution_count": 89,
   "id": "642d8efc-c125-49e9-8834-cd3a1e9d65df",
   "metadata": {
    "tags": []
   },
   "outputs": [
    {
     "data": {
      "text/plain": [
       "array([5, 6, 7])"
      ]
     },
     "execution_count": 89,
     "metadata": {},
     "output_type": "execute_result"
    }
   ],
   "source": [
    "limaPlus = (example >=5)\n",
    "example[limaPlus]"
   ]
  },
  {
   "cell_type": "code",
   "execution_count": 95,
   "id": "f6343599-c799-43b9-9cd3-bf1a69b9796a",
   "metadata": {
    "tags": []
   },
   "outputs": [
    {
     "data": {
      "text/plain": [
       "array([0, 2, 4, 6])"
      ]
     },
     "execution_count": 95,
     "metadata": {},
     "output_type": "execute_result"
    }
   ],
   "source": [
    "genap = (example %2 == 0)\n",
    "example[genap]\n",
    "\n",
    "example[example %2==0]"
   ]
  },
  {
   "cell_type": "code",
   "execution_count": 97,
   "id": "1769aea2-6260-4845-9be6-d56949db69d1",
   "metadata": {
    "tags": []
   },
   "outputs": [
    {
     "data": {
      "text/plain": [
       "array([4, 6])"
      ]
     },
     "execution_count": 97,
     "metadata": {},
     "output_type": "execute_result"
    }
   ],
   "source": [
    "example[(example %2==0) & (example >3)] "
   ]
  },
  {
   "cell_type": "code",
   "execution_count": 98,
   "id": "300abcbd-2ab5-4bd8-b47c-8c78b044709c",
   "metadata": {
    "tags": []
   },
   "outputs": [
    {
     "data": {
      "text/plain": [
       "array([0, 2, 4, 5, 6, 7])"
      ]
     },
     "execution_count": 98,
     "metadata": {},
     "output_type": "execute_result"
    }
   ],
   "source": [
    "example[(example %2==0) | (example >=5)] "
   ]
  },
  {
   "cell_type": "code",
   "execution_count": 101,
   "id": "eb85073c-adf2-45ae-bb0f-c794c5a04411",
   "metadata": {
    "tags": []
   },
   "outputs": [
    {
     "data": {
      "text/plain": [
       "array([ 1,  2,  3,  4,  5,  6,  7,  8,  9, 10])"
      ]
     },
     "execution_count": 101,
     "metadata": {},
     "output_type": "execute_result"
    }
   ],
   "source": [
    "a = np.arange(1,11)\n",
    "b= a[3:8]\n",
    "a\n"
   ]
  },
  {
   "cell_type": "code",
   "execution_count": 102,
   "id": "d371b484-d5cc-4b1c-9775-c783388e9429",
   "metadata": {
    "tags": []
   },
   "outputs": [
    {
     "data": {
      "text/plain": [
       "array([4, 5, 6, 7, 8])"
      ]
     },
     "execution_count": 102,
     "metadata": {},
     "output_type": "execute_result"
    }
   ],
   "source": [
    "b"
   ]
  },
  {
   "cell_type": "code",
   "execution_count": 105,
   "id": "b363b482-6160-4d57-bf3f-313863880662",
   "metadata": {
    "tags": []
   },
   "outputs": [
    {
     "data": {
      "text/plain": [
       "array([[0, 1],\n",
       "       [4, 5],\n",
       "       [2, 3],\n",
       "       [6, 7]])"
      ]
     },
     "execution_count": 105,
     "metadata": {},
     "output_type": "execute_result"
    }
   ],
   "source": [
    "a1= np.array([[0,1],[4,5]])\n",
    "a2 = np.array([[2,3],[6,7]])\n",
    "\n",
    "np.vstack((a1,a2))"
   ]
  },
  {
   "cell_type": "code",
   "execution_count": 106,
   "id": "8884600a-2756-4efe-8812-dbbefd09e7f2",
   "metadata": {
    "tags": []
   },
   "outputs": [
    {
     "data": {
      "text/plain": [
       "array([[0, 1, 2, 3],\n",
       "       [4, 5, 6, 7]])"
      ]
     },
     "execution_count": 106,
     "metadata": {},
     "output_type": "execute_result"
    }
   ],
   "source": [
    "np.hstack((a1,a2))"
   ]
  },
  {
   "cell_type": "code",
   "execution_count": 108,
   "id": "20b3d1c8-3cf5-4de3-a5ab-59f33b6c4ad7",
   "metadata": {
    "tags": []
   },
   "outputs": [
    {
     "data": {
      "text/plain": [
       "array([ 1,  2,  3,  4,  5,  6,  7,  8,  9, 10])"
      ]
     },
     "metadata": {},
     "output_type": "display_data"
    },
    {
     "ename": "ValueError",
     "evalue": "all the input array dimensions except for the concatenation axis must match exactly, but along dimension 1, the array at index 0 has size 2 and the array at index 1 has size 10",
     "output_type": "error",
     "traceback": [
      "\u001b[1;31m---------------------------------------------------------------------------\u001b[0m",
      "\u001b[1;31mValueError\u001b[0m                                Traceback (most recent call last)",
      "Cell \u001b[1;32mIn[108], line 3\u001b[0m\n\u001b[0;32m      1\u001b[0m display(a)\n\u001b[0;32m      2\u001b[0m a2 \u001b[38;5;241m=\u001b[39m a[np\u001b[38;5;241m.\u001b[39mnewaxis]\n\u001b[1;32m----> 3\u001b[0m a4 \u001b[38;5;241m=\u001b[39m np\u001b[38;5;241m.\u001b[39mvstack((a1,a2))\n\u001b[0;32m      5\u001b[0m a4\n",
      "File \u001b[1;32m<__array_function__ internals>:200\u001b[0m, in \u001b[0;36mvstack\u001b[1;34m(*args, **kwargs)\u001b[0m\n",
      "File \u001b[1;32m~\\anaconda3\\Lib\\site-packages\\numpy\\core\\shape_base.py:296\u001b[0m, in \u001b[0;36mvstack\u001b[1;34m(tup, dtype, casting)\u001b[0m\n\u001b[0;32m    294\u001b[0m \u001b[38;5;28;01mif\u001b[39;00m \u001b[38;5;129;01mnot\u001b[39;00m \u001b[38;5;28misinstance\u001b[39m(arrs, \u001b[38;5;28mlist\u001b[39m):\n\u001b[0;32m    295\u001b[0m     arrs \u001b[38;5;241m=\u001b[39m [arrs]\n\u001b[1;32m--> 296\u001b[0m \u001b[38;5;28;01mreturn\u001b[39;00m _nx\u001b[38;5;241m.\u001b[39mconcatenate(arrs, \u001b[38;5;241m0\u001b[39m, dtype\u001b[38;5;241m=\u001b[39mdtype, casting\u001b[38;5;241m=\u001b[39mcasting)\n",
      "File \u001b[1;32m<__array_function__ internals>:200\u001b[0m, in \u001b[0;36mconcatenate\u001b[1;34m(*args, **kwargs)\u001b[0m\n",
      "\u001b[1;31mValueError\u001b[0m: all the input array dimensions except for the concatenation axis must match exactly, but along dimension 1, the array at index 0 has size 2 and the array at index 1 has size 10"
     ]
    }
   ],
   "source": [
    "display(a)\n",
    "a2 = a[np.newaxis]\n",
    "a4 = np.vstack((a1,a2))\n",
    "\n",
    "a4"
   ]
  },
  {
   "cell_type": "code",
   "execution_count": 156,
   "id": "6c10f0f5-03e2-4d2c-9f3f-d72269ec1640",
   "metadata": {
    "tags": []
   },
   "outputs": [
    {
     "data": {
      "text/plain": [
       "array([[ 1,  2,  3,  4],\n",
       "       [ 5,  6,  7,  8],\n",
       "       [ 9, 10, 11, 12]])"
      ]
     },
     "execution_count": 156,
     "metadata": {},
     "output_type": "execute_result"
    }
   ],
   "source": [
    "c = np.array([[1,2,3,4],[5,6,7,8],[9,10,11,12]])\n",
    "c"
   ]
  },
  {
   "cell_type": "code",
   "execution_count": null,
   "id": "2205c128-dcfc-4781-8b67-8650fd1562c3",
   "metadata": {},
   "outputs": [],
   "source": []
  },
  {
   "cell_type": "code",
   "execution_count": null,
   "id": "c993ff46-b4ca-4461-839a-88d9110dd413",
   "metadata": {},
   "outputs": [],
   "source": []
  },
  {
   "cell_type": "code",
   "execution_count": 113,
   "id": "35db7082-72c0-42c5-939c-5f265c2fdff4",
   "metadata": {
    "tags": []
   },
   "outputs": [
    {
     "name": "stdout",
     "output_type": "stream",
     "text": [
      "[0 1 2]\n",
      "[4 5 6]\n",
      "[4 6 8]\n",
      "[-4 -4 -4]\n",
      "[ 0  5 12]\n",
      "[0.         0.2        0.33333333]\n"
     ]
    }
   ],
   "source": [
    "a = np.arange(3)\n",
    "b = np.arange(4,7)\n",
    "\n",
    "print(a)\n",
    "print(b)\n",
    "\n",
    "print (a+b)\n",
    "print (a-b)\n",
    "print (a*b)\n",
    "print (a/b)"
   ]
  },
  {
   "cell_type": "code",
   "execution_count": 114,
   "id": "3279b1f3-344b-4edd-b74d-0cf964a22536",
   "metadata": {
    "tags": []
   },
   "outputs": [
    {
     "data": {
      "text/plain": [
       "15"
      ]
     },
     "execution_count": 114,
     "metadata": {},
     "output_type": "execute_result"
    }
   ],
   "source": [
    "b.sum()"
   ]
  },
  {
   "cell_type": "code",
   "execution_count": 116,
   "id": "3ef059b3-b182-461f-9e93-5b771a25e6f0",
   "metadata": {
    "tags": []
   },
   "outputs": [
    {
     "data": {
      "text/plain": [
       "array([[0, 1, 2, 3],\n",
       "       [4, 5, 6, 7]])"
      ]
     },
     "execution_count": 116,
     "metadata": {},
     "output_type": "execute_result"
    }
   ],
   "source": [
    "example"
   ]
  },
  {
   "cell_type": "code",
   "execution_count": 117,
   "id": "8af962f4-7c98-4d24-baf3-4573ec754e61",
   "metadata": {
    "tags": []
   },
   "outputs": [
    {
     "data": {
      "text/plain": [
       "10"
      ]
     },
     "execution_count": 117,
     "metadata": {},
     "output_type": "execute_result"
    }
   ],
   "source": [
    "c.sum()"
   ]
  },
  {
   "cell_type": "code",
   "execution_count": 123,
   "id": "2d4d7690-4224-49b9-8ed0-01324d814de4",
   "metadata": {
    "tags": []
   },
   "outputs": [
    {
     "data": {
      "text/plain": [
       "55"
      ]
     },
     "execution_count": 123,
     "metadata": {},
     "output_type": "execute_result"
    }
   ],
   "source": [
    "a2\n",
    "a2.sum()"
   ]
  },
  {
   "cell_type": "code",
   "execution_count": 121,
   "id": "a8e05d20-8652-4702-994e-f8dfda66b30b",
   "metadata": {
    "tags": []
   },
   "outputs": [
    {
     "data": {
      "text/plain": [
       "array([[[ 0,  1,  2,  3,  4,  5,  7,  8,  9, 10, 11, 12, 13, 14, 15]]])"
      ]
     },
     "execution_count": 121,
     "metadata": {},
     "output_type": "execute_result"
    }
   ],
   "source": [
    "a3"
   ]
  },
  {
   "cell_type": "code",
   "execution_count": 122,
   "id": "ab9009e9-97b0-4c74-b434-0a8e40f69f8a",
   "metadata": {
    "tags": []
   },
   "outputs": [
    {
     "data": {
      "text/plain": [
       "114"
      ]
     },
     "execution_count": 122,
     "metadata": {},
     "output_type": "execute_result"
    }
   ],
   "source": [
    "a3.sum()"
   ]
  },
  {
   "cell_type": "code",
   "execution_count": 129,
   "id": "62629146-f8d4-4b1b-b6f7-81f54ae73f75",
   "metadata": {
    "tags": []
   },
   "outputs": [
    {
     "data": {
      "text/plain": [
       "[[1, 2, 3, 4], [5, 6, 7, 8], [9, 10, 11, 12]]"
      ]
     },
     "execution_count": 129,
     "metadata": {},
     "output_type": "execute_result"
    }
   ],
   "source": [
    "c = ([[1,2,3,4],\n",
    "      [5,6,7,8],\n",
    "      [9,10,11,12]])\n",
    "c"
   ]
  },
  {
   "cell_type": "code",
   "execution_count": 130,
   "id": "35c4dfb3-8d12-47cb-94ae-ca6ff37dd9ab",
   "metadata": {
    "tags": []
   },
   "outputs": [
    {
     "ename": "AttributeError",
     "evalue": "'list' object has no attribute 'sum'",
     "output_type": "error",
     "traceback": [
      "\u001b[1;31m---------------------------------------------------------------------------\u001b[0m",
      "\u001b[1;31mAttributeError\u001b[0m                            Traceback (most recent call last)",
      "Cell \u001b[1;32mIn[130], line 1\u001b[0m\n\u001b[1;32m----> 1\u001b[0m \u001b[38;5;28mprint\u001b[39m(c\u001b[38;5;241m.\u001b[39msum(axis \u001b[38;5;241m=\u001b[39m \u001b[38;5;241m0\u001b[39m))\n",
      "\u001b[1;31mAttributeError\u001b[0m: 'list' object has no attribute 'sum'"
     ]
    }
   ],
   "source": [
    "print(c.sum(axis = 0))"
   ]
  },
  {
   "cell_type": "code",
   "execution_count": 134,
   "id": "886b90e8-4cd4-480a-ad91-86a8c0275c34",
   "metadata": {
    "tags": []
   },
   "outputs": [
    {
     "data": {
      "text/plain": [
       "array([0. , 1.6, 3.2])"
      ]
     },
     "execution_count": 134,
     "metadata": {},
     "output_type": "execute_result"
    }
   ],
   "source": [
    "a *1.6"
   ]
  },
  {
   "cell_type": "code",
   "execution_count": 136,
   "id": "6de22e3e-d27a-4439-aa31-3e23ee5aed0b",
   "metadata": {
    "tags": []
   },
   "outputs": [
    {
     "data": {
      "text/plain": [
       "array([15, 30, 75])"
      ]
     },
     "execution_count": 136,
     "metadata": {},
     "output_type": "execute_result"
    }
   ],
   "source": [
    "z = np.array([1,2,5])\n",
    "z *15"
   ]
  },
  {
   "cell_type": "code",
   "execution_count": 147,
   "id": "9c79b53a",
   "metadata": {
    "tags": []
   },
   "outputs": [
    {
     "data": {
      "text/plain": [
       "array([[0, 1, 2, 3],\n",
       "       [4, 5, 6, 7]])"
      ]
     },
     "execution_count": 142,
     "metadata": {},
     "output_type": "execute_result"
    }
   ],
   "source": [
    "c = np.array([[1,2,3,4],[5,6,7,8],[9,10,11,12]])"
   ]
  },
  {
   "cell_type": "code",
   "execution_count": 148,
   "id": "08778d03-8d69-4209-b528-2e4c8ec40d82",
   "metadata": {
    "tags": []
   },
   "outputs": [
    {
     "data": {
      "text/plain": [
       "array([[ 1,  2,  3,  4],\n",
       "       [ 5,  6,  7,  8],\n",
       "       [ 9, 10, 11, 12]])"
      ]
     },
     "execution_count": 148,
     "metadata": {},
     "output_type": "execute_result"
    }
   ],
   "source": [
    "c"
   ]
  },
  {
   "cell_type": "code",
   "execution_count": 153,
   "id": "4fc204cb-2284-404f-86b8-c146ea645879",
   "metadata": {
    "tags": []
   },
   "outputs": [
    {
     "name": "stdout",
     "output_type": "stream",
     "text": [
      "1\n",
      "12\n",
      "78\n",
      "3.452052529534663\n",
      "[1 5 9]\n",
      "[ 9 10 11 12]\n"
     ]
    }
   ],
   "source": [
    "print(c.min())\n",
    "print(c.max())\n",
    "print(c.sum())\n",
    "print(c.std())\n",
    "print(c.min(axis = 1))\n",
    "print(c.max(axis = 0))"
   ]
  },
  {
   "cell_type": "code",
   "execution_count": 162,
   "id": "1905ced3-cfc7-4c56-ab94-88c29b89f4a9",
   "metadata": {
    "tags": []
   },
   "outputs": [
    {
     "name": "stdout",
     "output_type": "stream",
     "text": [
      "[[0. 0.]\n",
      " [0. 0.]\n",
      " [0. 0.]\n",
      " [0. 0.]\n",
      " [0. 0.]\n",
      " [0. 0.]]\n",
      "[[1. 1.]\n",
      " [1. 1.]\n",
      " [1. 1.]\n",
      " [1. 1.]\n",
      " [1. 1.]\n",
      " [1. 1.]]\n",
      "[[8.08602576e-01 3.89648405e-01]\n",
      " [3.48785339e-01 9.76256060e-01]\n",
      " [3.50917081e-01 4.16151527e-04]\n",
      " [4.94766166e-02 7.19752810e-01]\n",
      " [9.87139236e-01 4.30549704e-01]\n",
      " [9.32074411e-01 6.08335289e-01]]\n"
     ]
    }
   ],
   "source": [
    "z = np.zeros((6,2))\n",
    "q = np.ones((6,2))\n",
    "r = np.random.random((6,2))\n",
    "\n",
    "print(z)\n",
    "print(q)\n",
    "print(r)"
   ]
  },
  {
   "cell_type": "code",
   "execution_count": 167,
   "id": "c4c77dab-d40f-43c3-ba80-4ed13038108f",
   "metadata": {
    "tags": []
   },
   "outputs": [
    {
     "data": {
      "text/plain": [
       "array([[1.80860258, 1.38964841],\n",
       "       [1.34878534, 1.97625606],\n",
       "       [1.35091708, 1.00041615],\n",
       "       [1.04947662, 1.71975281],\n",
       "       [1.98713924, 1.4305497 ],\n",
       "       [1.93207441, 1.60833529]])"
      ]
     },
     "execution_count": 167,
     "metadata": {},
     "output_type": "execute_result"
    }
   ],
   "source": [
    "q + r"
   ]
  },
  {
   "cell_type": "code",
   "execution_count": 172,
   "id": "55dfa4a2-4236-4f3f-bb45-cbdf9db320ec",
   "metadata": {
    "tags": []
   },
   "outputs": [
    {
     "name": "stdout",
     "output_type": "stream",
     "text": [
      "[[0 1]\n",
      " [4 5]\n",
      " [7 8]]\n",
      "[[ 0  1  2]\n",
      " [ 4  5  6]\n",
      " [ 8  9 10]]\n"
     ]
    }
   ],
   "source": [
    "a1 = np.array([[0, 1],[4 ,5],[7,8]])\n",
    "print (a1)\n",
    "a2 = np.array([[0,1,2],[4,5,6],[8,9,10]])\n",
    "print(a2)"
   ]
  },
  {
   "cell_type": "code",
   "execution_count": 174,
   "id": "b222eb7e-61a5-464a-8617-5a1b140211e5",
   "metadata": {
    "tags": []
   },
   "outputs": [
    {
     "data": {
      "text/plain": [
       "array([[ 18,  21],\n",
       "       [ 62,  77],\n",
       "       [106, 133]])"
      ]
     },
     "execution_count": 174,
     "metadata": {},
     "output_type": "execute_result"
    }
   ],
   "source": [
    "np.dot(a2,a1)"
   ]
  },
  {
   "cell_type": "code",
   "execution_count": 181,
   "id": "0d31d1f6-4fad-402e-9a60-e656da999127",
   "metadata": {
    "tags": []
   },
   "outputs": [
    {
     "name": "stdout",
     "output_type": "stream",
     "text": [
      "[[1 2]\n",
      " [3 4]\n",
      " [5 6]]\n",
      "[1 2]\n",
      "[5 6]\n",
      "[[1 2]\n",
      " [3 4]]\n",
      "2\n",
      "2\n"
     ]
    }
   ],
   "source": [
    "a1 = np.array([[1,2],[3, 4],[5,6]])\n",
    "print(a1)\n",
    "print(a1[0])\n",
    "print(a1[2])\n",
    "print(a1[0:2])\n",
    "print(a1[0,1])\n",
    "print(a1[0][1])"
   ]
  },
  {
   "cell_type": "code",
   "execution_count": 184,
   "id": "487fe2d0-adcf-4cd3-98b5-0ba1a9f16148",
   "metadata": {
    "tags": []
   },
   "outputs": [
    {
     "data": {
      "text/plain": [
       "array([[1, 2],\n",
       "       [3, 4],\n",
       "       [5, 6]])"
      ]
     },
     "metadata": {},
     "output_type": "display_data"
    },
    {
     "name": "stdout",
     "output_type": "stream",
     "text": [
      "(3, 2)\n",
      "[[1 3 5]\n",
      " [2 4 6]]\n"
     ]
    },
    {
     "data": {
      "text/plain": [
       "array([[1, 3, 5],\n",
       "       [2, 4, 6]])"
      ]
     },
     "metadata": {},
     "output_type": "display_data"
    }
   ],
   "source": [
    "display(a1)\n",
    "print(a1.shape)\n",
    "print(a1.T)\n",
    "display(a1.T)"
   ]
  },
  {
   "cell_type": "code",
   "execution_count": 187,
   "id": "2f500969-d0ab-4d20-b308-5e6d8eb540de",
   "metadata": {
    "tags": []
   },
   "outputs": [
    {
     "data": {
      "text/plain": [
       "array([0, 1, 2, 3, 4, 5])"
      ]
     },
     "execution_count": 187,
     "metadata": {},
     "output_type": "execute_result"
    }
   ],
   "source": [
    "a= np.arange(6)\n",
    "a"
   ]
  },
  {
   "cell_type": "code",
   "execution_count": 191,
   "id": "4154b28b-7edf-4566-8cea-dac102db9203",
   "metadata": {
    "tags": []
   },
   "outputs": [
    {
     "data": {
      "text/plain": [
       "array([[0],\n",
       "       [1],\n",
       "       [2],\n",
       "       [3],\n",
       "       [4],\n",
       "       [5]])"
      ]
     },
     "execution_count": 191,
     "metadata": {},
     "output_type": "execute_result"
    }
   ],
   "source": [
    "a2 = a[np.newaxis]\n",
    "a2.T"
   ]
  },
  {
   "cell_type": "code",
   "execution_count": 200,
   "id": "d42e04bb-e4ac-4d89-b38d-6788d455b785",
   "metadata": {
    "tags": []
   },
   "outputs": [
    {
     "data": {
      "text/plain": [
       "array([[0, 1, 2],\n",
       "       [3, 4, 5]])"
      ]
     },
     "execution_count": 200,
     "metadata": {},
     "output_type": "execute_result"
    }
   ],
   "source": [
    "a3 = a2.reshape(-1,3)\n",
    "a3"
   ]
  },
  {
   "cell_type": "code",
   "execution_count": 207,
   "id": "204b3a35-b00b-4e3c-9ced-14fcd0b741f5",
   "metadata": {
    "tags": []
   },
   "outputs": [
    {
     "name": "stdout",
     "output_type": "stream",
     "text": [
      "[0 1 2 3 4 5]\n",
      "[0 2 3 4 5]\n",
      "[[0 1 2]\n",
      " [3 4 5]]\n"
     ]
    }
   ],
   "source": [
    "a4 = a3.flatten()\n",
    "print(a4)\n",
    "print (np.delete(a4,1))\n",
    "print(a3)"
   ]
  },
  {
   "cell_type": "code",
   "execution_count": 208,
   "id": "a543d1c4-7503-4891-8439-bf68d25cc72d",
   "metadata": {
    "tags": []
   },
   "outputs": [
    {
     "name": "stdout",
     "output_type": "stream",
     "text": [
      "[0 1 2 3 4 5]\n",
      "[0 2 3 4 5]\n",
      "[[0 1 2]\n",
      " [3 4 5]]\n"
     ]
    }
   ],
   "source": [
    "a4 = a3.ravel()\n",
    "print(a4)\n",
    "print (np.delete(a4,1))\n",
    "print(a3)"
   ]
  },
  {
   "cell_type": "code",
   "execution_count": null,
   "id": "0fcfc6d9-6d3d-447d-8562-1204766edbb0",
   "metadata": {},
   "outputs": [],
   "source": []
  }
 ],
 "metadata": {
  "kernelspec": {
   "display_name": "Python 3 (ipykernel)",
   "language": "python",
   "name": "python3"
  },
  "language_info": {
   "codemirror_mode": {
    "name": "ipython",
    "version": 3
   },
   "file_extension": ".py",
   "mimetype": "text/x-python",
   "name": "python",
   "nbconvert_exporter": "python",
   "pygments_lexer": "ipython3",
   "version": "3.11.4"
  }
 },
 "nbformat": 4,
 "nbformat_minor": 5
}
