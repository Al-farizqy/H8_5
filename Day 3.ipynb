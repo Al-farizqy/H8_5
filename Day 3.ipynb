{
 "cells": [
  {
   "cell_type": "code",
   "execution_count": 1,
   "id": "1f6b09b1-8a66-4dd2-b787-761f2a302804",
   "metadata": {
    "tags": []
   },
   "outputs": [],
   "source": [
    "def halo(b,c) :\n",
    "    \"function ini akan menyapa kamu yang sedang kurang duit\"\n",
    "    a = f'Halo, {b} Masyarakat yang sedang tidak punya uang {c}'\n",
    "    return a"
   ]
  },
  {
   "cell_type": "code",
   "execution_count": 21,
   "id": "bcc58c03-4818-4ccf-8d4e-c1e95ca852b5",
   "metadata": {
    "tags": []
   },
   "outputs": [
    {
     "data": {
      "text/plain": [
       "'Halo, aku Masyarakat yang sedang tidak punya uang dan ayank'"
      ]
     },
     "execution_count": 21,
     "metadata": {},
     "output_type": "execute_result"
    }
   ],
   "source": [
    "halo('aku','dan ayank')"
   ]
  },
  {
   "cell_type": "code",
   "execution_count": 29,
   "id": "8d504945-cfbc-4534-9802-f3ccab6882f5",
   "metadata": {
    "tags": []
   },
   "outputs": [
    {
     "name": "stdout",
     "output_type": "stream",
     "text": [
      "Halo-Halo Halo-Halo Halo-Halo \n"
     ]
    }
   ],
   "source": [
    "def printku(str):\n",
    "    print(str)\n",
    "    #return\n",
    "\n",
    "printku('Halo-Halo '*3)"
   ]
  },
  {
   "cell_type": "code",
   "execution_count": 47,
   "id": "24ded3ab-fdfe-4f9f-8117-8a8d715fb1c0",
   "metadata": {
    "tags": []
   },
   "outputs": [
    {
     "name": "stdout",
     "output_type": "stream",
     "text": [
      "kamukamukamu\n",
      "6\n"
     ]
    }
   ],
   "source": [
    "def printme(str, angka = 6):\n",
    "    print(str * angka)\n",
    "    print(angka + angka)\n",
    "    return\n",
    "\n",
    "printme(str='kamu', angka = 3)"
   ]
  },
  {
   "cell_type": "code",
   "execution_count": 59,
   "id": "22e4ff12-210a-4803-ab72-a483bbedee1f",
   "metadata": {
    "tags": []
   },
   "outputs": [
    {
     "name": "stdout",
     "output_type": "stream",
     "text": [
      "Mari Ganti Isi List\n",
      " Value List dalam function :  [1, 2, 3, 4]\n",
      "Value diluar function :  [6, 7, 8]\n"
     ]
    }
   ],
   "source": [
    "def changes(mylist):\n",
    "    print(\"Mari Ganti Isi List\")\n",
    "    mylist = [1,2,3,4];\n",
    "    print(\" Value List dalam function : \" , mylist)\n",
    "    return\n",
    "\n",
    "mylist = [6,7,8];\n",
    "\n",
    "changes(mylist);\n",
    "print (\"Value diluar function : \" , mylist)"
   ]
  },
  {
   "cell_type": "code",
   "execution_count": null,
   "id": "fb65e25a-603d-4df9-ae19-3a1fc0391363",
   "metadata": {},
   "outputs": [],
   "source": []
  },
  {
   "cell_type": "code",
   "execution_count": 55,
   "id": "2971d30e-5a84-4317-babf-edde04bafaa3",
   "metadata": {
    "tags": []
   },
   "outputs": [
    {
     "name": "stdout",
     "output_type": "stream",
     "text": [
      "Berikut contoh penjumlahan menggunakan FUnction dan Anonym FUnction (lambda)\n",
      "30\n",
      "3\n"
     ]
    }
   ],
   "source": [
    "def jumlah (n1,n2):\n",
    "    \n",
    "    a = n1 + n2\n",
    "    return a\n",
    "\n",
    "print(\"Berikut contoh penjumlahan menggunakan FUnction dan Anonym FUnction (lambda)\")\n",
    "\n",
    "print (jumlah (10,20))\n",
    "\n",
    "n3 = 1\n",
    "n4 = 2\n",
    "\n",
    "sum = lambda n1,n2 : n1 +n2\n",
    "\n",
    "print (sum(1,2))"
   ]
  },
  {
   "cell_type": "code",
   "execution_count": null,
   "id": "29d686df-0020-4b27-acac-1592567cb9a2",
   "metadata": {},
   "outputs": [],
   "source": []
  },
  {
   "cell_type": "code",
   "execution_count": null,
   "id": "dfc6ae74-abd1-493b-8fcd-b3e330f59e20",
   "metadata": {},
   "outputs": [],
   "source": []
  },
  {
   "cell_type": "code",
   "execution_count": 96,
   "id": "3f7a5468-ec71-46d0-8c88-944f19a8bd31",
   "metadata": {
    "tags": []
   },
   "outputs": [
    {
     "name": "stdout",
     "output_type": "stream",
     "text": [
      "Hacktiv8 Python\n"
     ]
    },
    {
     "ename": "TypeError",
     "evalue": "foo() takes no arguments",
     "output_type": "error",
     "traceback": [
      "\u001b[1;31m---------------------------------------------------------------------------\u001b[0m",
      "\u001b[1;31mTypeError\u001b[0m                                 Traceback (most recent call last)",
      "Cell \u001b[1;32mIn[96], line 6\u001b[0m\n\u001b[0;32m      3\u001b[0m \u001b[38;5;28mprint\u001b[39m (m\u001b[38;5;241m.\u001b[39ms)\n\u001b[0;32m      4\u001b[0m m\u001b[38;5;241m.\u001b[39ma\n\u001b[1;32m----> 6\u001b[0m m\u001b[38;5;241m.\u001b[39mfoo([\u001b[38;5;124m'\u001b[39m\u001b[38;5;124mquux\u001b[39m\u001b[38;5;124m'\u001b[39m, \u001b[38;5;124m'\u001b[39m\u001b[38;5;124mcorge\u001b[39m\u001b[38;5;124m'\u001b[39m, \u001b[38;5;124m'\u001b[39m\u001b[38;5;124mgrault\u001b[39m\u001b[38;5;124m'\u001b[39m])\n\u001b[0;32m      9\u001b[0m x \u001b[38;5;241m=\u001b[39m m\u001b[38;5;241m.\u001b[39mFoo()\n\u001b[0;32m     10\u001b[0m x\n",
      "\u001b[1;31mTypeError\u001b[0m: foo() takes no arguments"
     ]
    }
   ],
   "source": [
    "import mod as m\n",
    "\n",
    "print (m.s)\n",
    "m.a\n",
    "\n",
    "m.foo(['quux', 'corge', 'grault'])\n",
    "\n",
    "\n",
    "x = m.Foo()\n",
    "x"
   ]
  },
  {
   "cell_type": "code",
   "execution_count": 70,
   "id": "c0128cf6-6c21-422e-9076-6b60b1074176",
   "metadata": {
    "tags": []
   },
   "outputs": [
    {
     "data": {
      "text/plain": [
       "'Hacktiv8 Python'"
      ]
     },
     "execution_count": 70,
     "metadata": {},
     "output_type": "execute_result"
    }
   ],
   "source": [
    "s = 10\n",
    "from mod import s\n",
    "s\n"
   ]
  },
  {
   "cell_type": "code",
   "execution_count": 71,
   "id": "4e9ecf27-e202-479a-8c3a-d49eaf0a14f9",
   "metadata": {
    "tags": []
   },
   "outputs": [
    {
     "name": "stdout",
     "output_type": "stream",
     "text": [
      "10\n",
      "Hacktiv8 Python\n"
     ]
    }
   ],
   "source": [
    "s = 10\n",
    "from mod import s as string\n",
    "print (s)\n",
    "print(string)"
   ]
  },
  {
   "cell_type": "code",
   "execution_count": 90,
   "id": "cd9fda0f-abb4-47d5-8977-2618e9236e9f",
   "metadata": {
    "tags": []
   },
   "outputs": [],
   "source": [
    "def coba () :\n",
    "    from mod import a\n",
    "    print (a)\n"
   ]
  },
  {
   "cell_type": "code",
   "execution_count": 93,
   "id": "754b442e-9b34-4fad-a5ce-8228d662c186",
   "metadata": {
    "tags": []
   },
   "outputs": [],
   "source": [
    "hack = 8"
   ]
  },
  {
   "cell_type": "code",
   "execution_count": 94,
   "id": "7f5238f2-03d6-40d2-b3ea-ede2a2681099",
   "metadata": {
    "tags": []
   },
   "outputs": [
    {
     "data": {
      "text/plain": [
       "['In',\n",
       " 'Out',\n",
       " '_',\n",
       " '_12',\n",
       " '_13',\n",
       " '_16',\n",
       " '_2',\n",
       " '_21',\n",
       " '_4',\n",
       " '_48',\n",
       " '_5',\n",
       " '_66',\n",
       " '_67',\n",
       " '_68',\n",
       " '_69',\n",
       " '_70',\n",
       " '_81',\n",
       " '_91',\n",
       " '_92',\n",
       " '__',\n",
       " '___',\n",
       " '__builtin__',\n",
       " '__builtins__',\n",
       " '__doc__',\n",
       " '__loader__',\n",
       " '__name__',\n",
       " '__package__',\n",
       " '__spec__',\n",
       " '_dh',\n",
       " '_i',\n",
       " '_i1',\n",
       " '_i10',\n",
       " '_i11',\n",
       " '_i12',\n",
       " '_i13',\n",
       " '_i14',\n",
       " '_i15',\n",
       " '_i16',\n",
       " '_i17',\n",
       " '_i18',\n",
       " '_i19',\n",
       " '_i2',\n",
       " '_i20',\n",
       " '_i21',\n",
       " '_i22',\n",
       " '_i23',\n",
       " '_i24',\n",
       " '_i25',\n",
       " '_i26',\n",
       " '_i27',\n",
       " '_i28',\n",
       " '_i29',\n",
       " '_i3',\n",
       " '_i30',\n",
       " '_i31',\n",
       " '_i32',\n",
       " '_i33',\n",
       " '_i34',\n",
       " '_i35',\n",
       " '_i36',\n",
       " '_i37',\n",
       " '_i38',\n",
       " '_i39',\n",
       " '_i4',\n",
       " '_i40',\n",
       " '_i41',\n",
       " '_i42',\n",
       " '_i43',\n",
       " '_i44',\n",
       " '_i45',\n",
       " '_i46',\n",
       " '_i47',\n",
       " '_i48',\n",
       " '_i49',\n",
       " '_i5',\n",
       " '_i50',\n",
       " '_i51',\n",
       " '_i52',\n",
       " '_i53',\n",
       " '_i54',\n",
       " '_i55',\n",
       " '_i56',\n",
       " '_i57',\n",
       " '_i58',\n",
       " '_i59',\n",
       " '_i6',\n",
       " '_i60',\n",
       " '_i61',\n",
       " '_i62',\n",
       " '_i63',\n",
       " '_i64',\n",
       " '_i65',\n",
       " '_i66',\n",
       " '_i67',\n",
       " '_i68',\n",
       " '_i69',\n",
       " '_i7',\n",
       " '_i70',\n",
       " '_i71',\n",
       " '_i72',\n",
       " '_i73',\n",
       " '_i74',\n",
       " '_i75',\n",
       " '_i76',\n",
       " '_i77',\n",
       " '_i78',\n",
       " '_i79',\n",
       " '_i8',\n",
       " '_i80',\n",
       " '_i81',\n",
       " '_i82',\n",
       " '_i83',\n",
       " '_i84',\n",
       " '_i85',\n",
       " '_i86',\n",
       " '_i87',\n",
       " '_i88',\n",
       " '_i89',\n",
       " '_i9',\n",
       " '_i90',\n",
       " '_i91',\n",
       " '_i92',\n",
       " '_i93',\n",
       " '_i94',\n",
       " '_ih',\n",
       " '_ii',\n",
       " '_iii',\n",
       " '_oh',\n",
       " 'a',\n",
       " 'changes',\n",
       " 'coba',\n",
       " 'exit',\n",
       " 'foo',\n",
       " 'get_ipython',\n",
       " 'hack',\n",
       " 'halo',\n",
       " 'jumlah',\n",
       " 'm',\n",
       " 'mylist',\n",
       " 'n3',\n",
       " 'n4',\n",
       " 'open',\n",
       " 'printku',\n",
       " 'printme',\n",
       " 'quit',\n",
       " 'random',\n",
       " 's',\n",
       " 'string',\n",
       " 'sum']"
      ]
     },
     "execution_count": 94,
     "metadata": {},
     "output_type": "execute_result"
    }
   ],
   "source": [
    "dir()"
   ]
  },
  {
   "cell_type": "code",
   "execution_count": 98,
   "id": "7a4afcda-494f-4d2f-94ba-3cff9fb9b92d",
   "metadata": {
    "tags": []
   },
   "outputs": [
    {
     "ename": "SyntaxError",
     "evalue": "invalid syntax (2660392404.py, line 1)",
     "output_type": "error",
     "traceback": [
      "\u001b[1;36m  Cell \u001b[1;32mIn[98], line 1\u001b[1;36m\u001b[0m\n\u001b[1;33m    $ pip --version\u001b[0m\n\u001b[1;37m    ^\u001b[0m\n\u001b[1;31mSyntaxError\u001b[0m\u001b[1;31m:\u001b[0m invalid syntax\n"
     ]
    }
   ],
   "source": [
    "$ pip --version\n"
   ]
  },
  {
   "cell_type": "code",
   "execution_count": null,
   "id": "8f20da56-df1f-4554-b6b2-d0619a6c4be8",
   "metadata": {},
   "outputs": [],
   "source": []
  }
 ],
 "metadata": {
  "kernelspec": {
   "display_name": "Python 3 (ipykernel)",
   "language": "python",
   "name": "python3"
  },
  "language_info": {
   "codemirror_mode": {
    "name": "ipython",
    "version": 3
   },
   "file_extension": ".py",
   "mimetype": "text/x-python",
   "name": "python",
   "nbconvert_exporter": "python",
   "pygments_lexer": "ipython3",
   "version": "3.11.4"
  }
 },
 "nbformat": 4,
 "nbformat_minor": 5
}
