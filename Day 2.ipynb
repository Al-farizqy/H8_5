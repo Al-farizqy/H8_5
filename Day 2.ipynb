{
 "cells": [
  {
   "cell_type": "code",
   "execution_count": 5,
   "id": "c56ba334-1cc7-4572-bbdc-47d89db503a6",
   "metadata": {
    "tags": []
   },
   "outputs": [
    {
     "data": {
      "text/plain": [
       "True"
      ]
     },
     "execution_count": 5,
     "metadata": {},
     "output_type": "execute_result"
    }
   ],
   "source": [
    "a = 2\n",
    "b = 2\n",
    "\n",
    "a == b\n",
    "a != b\n",
    "a > b\n",
    "a >= n\n",
    "a < b\n",
    "a <= b"
   ]
  },
  {
   "cell_type": "code",
   "execution_count": 18,
   "id": "0b62342b-ea3a-4213-96ee-d48b005cdc65",
   "metadata": {
    "tags": []
   },
   "outputs": [
    {
     "data": {
      "text/plain": [
       "<wordcloud.wordcloud.WordCloud at 0x1901fa55b10>"
      ]
     },
     "execution_count": 18,
     "metadata": {},
     "output_type": "execute_result"
    }
   ],
   "source": [
    "# instantiate a word cloud object\n",
    "alice_wc = WordCloud(\n",
    "    background_color='white',\n",
    "    max_words=2000,\n",
    "    stopwords=stopwords\n",
    ")\n",
    "\n",
    "# generate the word cloud\n",
    "alice_wc.generate(alice_novel)"
   ]
  },
  {
   "cell_type": "code",
   "execution_count": 4,
   "id": "0fcbcddd-0c8e-4919-91a2-e8a72a861224",
   "metadata": {
    "tags": []
   },
   "outputs": [
    {
     "name": "stdout",
     "output_type": "stream",
     "text": [
      "Yes\n",
      "a lebih besar atau sama dengan b\n"
     ]
    }
   ],
   "source": [
    "if a == b :\n",
    "    print(\"Yes\")\n",
    "    \n",
    "if a > b :\n",
    "    print(\"a besar dari b\")\n",
    "    \n",
    "if a >= b :\n",
    "    print (\"a lebih besar atau sama dengan b\")"
   ]
  },
  {
   "cell_type": "code",
   "execution_count": 7,
   "id": "efa2d045-fdbf-4d24-a46f-ea09cd2604a9",
   "metadata": {
    "tags": []
   },
   "outputs": [
    {
     "name": "stdout",
     "output_type": "stream",
     "text": [
      "Yes\n",
      "a dan b sama\n",
      "Paling Bawah panas\n"
     ]
    }
   ],
   "source": [
    "if a == b : \n",
    "    print (\"Yes\")\n",
    "    print (\"a dan b sama\")\n",
    "    \n",
    "    \n",
    "    \n",
    "    \n",
    "    \n",
    "    \n",
    "    \n",
    "print(\"Paling Bawah panas\")"
   ]
  },
  {
   "cell_type": "code",
   "execution_count": 9,
   "id": "5ac3eb5c-6677-4d55-af9e-0f0130e0193e",
   "metadata": {
    "tags": []
   },
   "outputs": [
    {
     "name": "stdout",
     "output_type": "stream",
     "text": [
      "Outer Condition is true\n",
      "Between Inner Condition\n",
      "Inner Condition 2\n",
      "End Of Outer COndition\n",
      "After Outer COndition\n"
     ]
    }
   ],
   "source": [
    "if 'foo' in ['foo', 'bar', 'baz'] :\n",
    "    print (\"Outer Condition is true\")\n",
    "    \n",
    "    if 10 > 20 :\n",
    "        print(\"Inner Condition 1\")\n",
    "    \n",
    "    print (\"Between Inner Condition\")\n",
    "    \n",
    "    if 10 < 20 :\n",
    "        print(\"Inner Condition 2\")\n",
    "        \n",
    "    print ( \"End Of Outer COndition\")\n",
    "\n",
    "print (\"After Outer COndition\")\n",
    "    "
   ]
  },
  {
   "cell_type": "code",
   "execution_count": 12,
   "id": "6fe5861f-8a44-421c-acb7-c5561430693b",
   "metadata": {
    "tags": []
   },
   "outputs": [
    {
     "name": "stdout",
     "output_type": "stream",
     "text": [
      "Jalankan ELse\n",
      "Paling Bawah\n"
     ]
    }
   ],
   "source": [
    "a = 2\n",
    "b = 2\n",
    "\n",
    "if a != b :\n",
    "    print(\"Yes\")\n",
    "    print (\"a tidak sama dengan b\")\n",
    "    \n",
    "else :\n",
    "    print(\"Jalankan ELse\")\n",
    "    \n",
    "print (\"Paling Bawah\")\n",
    "    "
   ]
  },
  {
   "cell_type": "code",
   "execution_count": 18,
   "id": "dc94531b-7afb-467d-ba6c-714d563b039e",
   "metadata": {
    "tags": []
   },
   "outputs": [
    {
     "name": "stdout",
     "output_type": "stream",
     "text": [
      "Uang kamu cukup untuk membeli buku, tapi uangmu akan habis.\n"
     ]
    }
   ],
   "source": [
    "hargaBuku = 15000\n",
    "hargaMajalah = 35000\n",
    "uang = 15000\n",
    "\n",
    "if uang > hargaMajalah :\n",
    "    print(\"Uang kamu cukup untuk membeli Majalah\")\n",
    "elif uang > hargaBuku :\n",
    "    print(\"Uang kamu cukup untuk membeli Buku\")\n",
    "elif uang == hargaBuku :\n",
    "    print(\"Uang kamu cukup untuk membeli buku, tapi uangmu akan habis.\")\n",
    "else :\n",
    "    print (\"Uang kamu tidak cukup untuk berbelanja disini, cari uang lagi ya\")"
   ]
  },
  {
   "cell_type": "code",
   "execution_count": 19,
   "id": "8dfadf7f-c296-4daf-a5fd-41db190eb3dc",
   "metadata": {
    "tags": []
   },
   "outputs": [
    {
     "name": "stdout",
     "output_type": "stream",
     "text": [
      "1 lebih kecil dari 2\n",
      "1 lebih kecil dari 2\n"
     ]
    }
   ],
   "source": [
    "if 1 < 2:\n",
    "    print(\"1 lebih kecil dari 2\")\n",
    "\n",
    "if 2 == 1 :\n",
    "    print (\"2 sama dengan 1\")\n",
    "    \n",
    "elif 1<2 :\n",
    "    print (\"1 lebih kecil dari 2\")"
   ]
  },
  {
   "cell_type": "code",
   "execution_count": 22,
   "id": "a740dd76-a340-4009-ae68-e6334fd54f0e",
   "metadata": {
    "tags": []
   },
   "outputs": [
    {
     "name": "stdout",
     "output_type": "stream",
     "text": [
      "ada\n",
      "a\n",
      "dalam\n",
      "bara\n"
     ]
    }
   ],
   "source": [
    "if 'a' in \"bara\" : print('ada') ; print ('a'); print('dalam'); print ('bara')"
   ]
  },
  {
   "cell_type": "code",
   "execution_count": 26,
   "id": "23dd8685-1cf4-4b2e-ae0a-78102e6d6d02",
   "metadata": {
    "tags": []
   },
   "outputs": [
    {
     "name": "stdout",
     "output_type": "stream",
     "text": [
      " Ayo masbro kita jalan ke pantai\n"
     ]
    }
   ],
   "source": [
    "raining = False\n",
    "print(\" Ayo masbro kita jalan ke\", 'pantai' if not raining else'Warnet')"
   ]
  },
  {
   "cell_type": "code",
   "execution_count": 28,
   "id": "2a755745-7880-4979-bf15-115cb6fb4aab",
   "metadata": {
    "tags": []
   },
   "outputs": [
    {
     "name": "stdout",
     "output_type": "stream",
     "text": [
      "adik saya ada 2\n"
     ]
    }
   ],
   "source": [
    "print(\"adik saya ada\", a)"
   ]
  },
  {
   "cell_type": "code",
   "execution_count": 33,
   "id": "06930d30-3a6a-4201-9b0b-83419b89043b",
   "metadata": {
    "tags": []
   },
   "outputs": [
    {
     "data": {
      "text/plain": [
       "2"
      ]
     },
     "execution_count": 33,
     "metadata": {},
     "output_type": "execute_result"
    }
   ],
   "source": [
    "m = a if a > b else b\n",
    "m"
   ]
  },
  {
   "cell_type": "code",
   "execution_count": 35,
   "id": "95ce759e-ce5e-4d28-9e68-77a9c85e9d05",
   "metadata": {
    "tags": []
   },
   "outputs": [
    {
     "name": "stdout",
     "output_type": "stream",
     "text": [
      "foo\n"
     ]
    }
   ],
   "source": [
    "if True:\n",
    "    pass\n",
    "elif True:\n",
    "    print(\"Y\")\n",
    "    \n",
    "print('foo')"
   ]
  },
  {
   "cell_type": "code",
   "execution_count": 50,
   "id": "45ca9738-9523-4fa9-a777-591e9b057c8f",
   "metadata": {
    "tags": []
   },
   "outputs": [
    {
     "name": "stdout",
     "output_type": "stream",
     "text": [
      "5\n",
      "4\n",
      "3\n",
      "Selesai masbro\n"
     ]
    }
   ],
   "source": [
    "n=5\n",
    "while n >0:\n",
    "    print (n)\n",
    "    n -=1\n",
    "    if n == 2:\n",
    "        break\n",
    "\n",
    "print(\"Selesai masbro\")"
   ]
  },
  {
   "cell_type": "code",
   "execution_count": 48,
   "id": "91adf7fc-9fd5-4715-b741-8c9ca1fb2ca7",
   "metadata": {
    "tags": []
   },
   "outputs": [
    {
     "name": "stdout",
     "output_type": "stream",
     "text": [
      "Aku Sayang Mama\n"
     ]
    }
   ],
   "source": [
    "while True:\n",
    "    print(\"Aku Sayang Mama\")\n",
    "    break"
   ]
  },
  {
   "cell_type": "code",
   "execution_count": 53,
   "id": "8c0f18fe-fa24-427c-81c8-bb3d41d86a0c",
   "metadata": {
    "tags": []
   },
   "outputs": [
    {
     "name": "stdout",
     "output_type": "stream",
     "text": [
      "5\n",
      "4\n",
      "3\n",
      "2\n",
      "1\n",
      "Selesai masbro\n"
     ]
    }
   ],
   "source": [
    "n=5\n",
    "while n >0:\n",
    "    print (n)\n",
    "    \n",
    "    n -=1\n",
    "    if n == 2:\n",
    "        continue\n",
    "\n",
    "print(\"Selesai masbro\")"
   ]
  },
  {
   "cell_type": "code",
   "execution_count": 55,
   "id": "cab94fe7-de9d-4135-a58c-6ee09ce98bb8",
   "metadata": {
    "tags": []
   },
   "outputs": [
    {
     "name": "stdout",
     "output_type": "stream",
     "text": [
      "uwu\n"
     ]
    }
   ],
   "source": [
    "n = -1\n",
    "\n",
    "while n > 0:\n",
    "    n -=1\n",
    "    \n",
    "    if n==2 :\n",
    "        continue\n",
    "    \n",
    "    print (n)\n",
    "    break\n",
    "\n",
    "else:\n",
    "    print(\"uwu\")\n",
    "    "
   ]
  },
  {
   "cell_type": "code",
   "execution_count": null,
   "id": "05a9b133-4700-4482-b22c-7848b230a8cf",
   "metadata": {},
   "outputs": [],
   "source": [
    "n = 5 \n"
   ]
  },
  {
   "cell_type": "code",
   "execution_count": 56,
   "id": "6d683171-a6d1-4b1f-86d8-04811d7a15fa",
   "metadata": {},
   "outputs": [
    {
     "name": "stdout",
     "output_type": "stream",
     "text": [
      "foo\n",
      "> baz\n",
      "> qux\n",
      "bar\n",
      "> baz\n",
      "> qux\n"
     ]
    }
   ],
   "source": [
    "a = ['foo', 'bar']\n",
    "\n",
    "while len(a):\n",
    "    print(a.pop(0))\n",
    "    \n",
    "    b = ['baz', 'qux']\n",
    "    while len(b):\n",
    "        print ('>', b.pop(0))"
   ]
  },
  {
   "cell_type": "code",
   "execution_count": 58,
   "id": "a0762158-5735-4219-9a15-e0976a582a56",
   "metadata": {
    "tags": []
   },
   "outputs": [
    {
     "name": "stdout",
     "output_type": "stream",
     "text": [
      "4\n",
      "3\n",
      "2\n",
      "1\n",
      "0\n"
     ]
    }
   ],
   "source": [
    "n = 5 \n",
    "while n>0: n-= 1; print (n)"
   ]
  },
  {
   "cell_type": "code",
   "execution_count": 62,
   "id": "2eaad53d-703d-4770-b863-2e0b98f6d531",
   "metadata": {
    "tags": []
   },
   "outputs": [
    {
     "name": "stdout",
     "output_type": "stream",
     "text": [
      "0\n",
      "1\n",
      "2\n",
      "3\n",
      "4\n"
     ]
    }
   ],
   "source": [
    "for i in range(5):\n",
    "    print (i)"
   ]
  },
  {
   "cell_type": "code",
   "execution_count": 67,
   "id": "57980ba8-df1c-49b4-9373-f3afd9816302",
   "metadata": {
    "tags": []
   },
   "outputs": [
    {
     "name": "stdout",
     "output_type": "stream",
     "text": [
      "30\n",
      "29\n",
      "28\n",
      "27\n",
      "26\n",
      "25\n",
      "24\n",
      "23\n",
      "22\n",
      "21\n",
      "20\n",
      "19\n",
      "18\n",
      "17\n",
      "16\n",
      "15\n",
      "14\n",
      "13\n",
      "12\n",
      "11\n",
      "10\n",
      "9\n",
      "8\n",
      "7\n",
      "6\n"
     ]
    }
   ],
   "source": [
    "for i in range (30,5,-1):\n",
    "    print (i)"
   ]
  },
  {
   "cell_type": "code",
   "execution_count": 69,
   "id": "ade205fb-3e15-462d-8a16-e8646b74fb77",
   "metadata": {
    "tags": []
   },
   "outputs": [
    {
     "name": "stdout",
     "output_type": "stream",
     "text": [
      "foo\n",
      "qux\n"
     ]
    }
   ],
   "source": [
    "for i in ['foo', 'bar', 'baz', 'qux']:\n",
    "    if 'b' in i:\n",
    "        continue\n",
    "    print(i)"
   ]
  },
  {
   "cell_type": "code",
   "execution_count": 76,
   "id": "c4b0889d-cc4b-4fca-bf96-b21aa5e6c4e6",
   "metadata": {
    "tags": []
   },
   "outputs": [
    {
     "name": "stdin",
     "output_type": "stream",
     "text": [
      "Ketikkan tempratur yang ingin dikonversi, misal 45 r, 120C :  100C\n"
     ]
    },
    {
     "name": "stdout",
     "output_type": "stream",
     "text": [
      "Tempraturnya adalah 212 derajat\n"
     ]
    }
   ],
   "source": [
    "temp = input (\"Ketikkan tempratur yang ingin dikonversi, misal 45 r, 120C : \")\n",
    "degree = int (temp [:-1]) \n",
    "i_convertion = temp[-1]\n",
    "\n",
    "if i_convertion ==\"C\": \n",
    "    result = int (round (( 9* degree) /5 + 32)) \n",
    "elif i_convertion ==\"F\" : \n",
    "    result = int( round (( degree -32) *5 /9 )) \n",
    "else: \n",
    "    print(\"Masukkan Input yang benar\") \n",
    "print(\"Tempraturnya adalah\", result, \"derajat\")"
   ]
  },
  {
   "cell_type": "code",
   "execution_count": 81,
   "id": "ba27a54a-c011-4f43-887a-37545d5fc25e",
   "metadata": {
    "tags": []
   },
   "outputs": [
    {
     "name": "stdin",
     "output_type": "stream",
     "text": [
      "Masukkan Password : j\n"
     ]
    },
    {
     "name": "stdout",
     "output_type": "stream",
     "text": [
      "Password Salah Bro!\n"
     ]
    },
    {
     "name": "stdin",
     "output_type": "stream",
     "text": [
      "Masukkan Password : k\n"
     ]
    },
    {
     "name": "stdout",
     "output_type": "stream",
     "text": [
      "Password Salah Bro!\n"
     ]
    },
    {
     "name": "stdin",
     "output_type": "stream",
     "text": [
      "Masukkan Password : Hacktiv8\n"
     ]
    },
    {
     "name": "stdout",
     "output_type": "stream",
     "text": [
      "good job !\n"
     ]
    }
   ],
   "source": [
    "while True:\n",
    "    password= input(\"Masukkan Password :\")\n",
    "    \n",
    "    if password == (\"Hacktiv8\"):\n",
    "        print(\"good job !\")\n",
    "        break\n",
    "    else :\n",
    "        print (\"Password Salah Bro!\")"
   ]
  },
  {
   "cell_type": "code",
   "execution_count": null,
   "id": "d22eb2ee-f11e-4523-ac10-160161506020",
   "metadata": {},
   "outputs": [],
   "source": []
  }
 ],
 "metadata": {
  "kernelspec": {
   "display_name": "Python 3 (ipykernel)",
   "language": "python",
   "name": "python3"
  },
  "language_info": {
   "codemirror_mode": {
    "name": "ipython",
    "version": 3
   },
   "file_extension": ".py",
   "mimetype": "text/x-python",
   "name": "python",
   "nbconvert_exporter": "python",
   "pygments_lexer": "ipython3",
   "version": "3.11.4"
  }
 },
 "nbformat": 4,
 "nbformat_minor": 5
}
